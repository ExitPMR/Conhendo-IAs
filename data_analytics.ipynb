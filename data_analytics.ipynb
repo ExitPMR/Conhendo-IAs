# Passo a passo para o projeto:
# ATENÇÃO! Este código foi escrito em formato .ipynb!
#passo 0: importar as bibliotecas
#passo 1: importar banco de dados
#passso 2: limpar a base de dados
#passo 3: criar os modelos de ia -> notas de créditos: poor, standart e good
#passo 4: escolher o melhot modelos
#passo 5: testar em novas previsões
#-------------------------------------------------------------------------------------------------------
  
#passo 0: importar as bibliotecas

!pip install pandas numpy openpyxl scikit-learn

#passo 1: importar banco de dados

import pandas as pd

tabela = pd.read_csv('clientes.csv')
display(tabela)

#passso 2: limpar a base de dados

print(tabela.info())
print(tabela.columns)

from sklearn.preprocessing import LabelEncoder

#codificador que vai converter object para number
codificador = LabelEncoder()

#colunas a serem convertidas: profissao, mix_credito, comportamento_pagamento:
for colunas in tabela.columns:
    if tabela[colunas].dtype == object and colunas != 'score_credito':
        tabela[colunas] = codificador.fit_transform(tabela[colunas])

for colunas in tabela.columns:
    if tabela[colunas].dtype == object and colunas != 'score_credito':
        print(colunas)


#passo 3: criar os modelos de ia -> notas de créditos: poor, standart e good

x = tabela.drop(['id_cliente', 'score_credito'], axis=1)
y = tabela['score_credito']

from sklearn.model_selection import train_test_split

x_treino, x_teste, y_treino, y_teste = train_test_split(x, y, test_size=0.4, random_state=1)


from sklearn.ensemble import RandomForestClassifier
from sklearn.neighbors import KNeighborsClassifier


modelo_arvore = RandomForestClassifier()
modelo_vizinho = KNeighborsClassifier()

#treinando os modelos

modelo_arvore.fit(x_treino, y_treino)
modelo_vizinho.fit(x_treino, y_treino)


#passo 4: escolher o melhot modelos

from sklearn.metrics import accuracy_score

previsao_arvore = modelo_arvore.predict(x_teste)
previsao_vizinho = modelo_vizinho.predict(x_teste)

print(accuracy_score(y_teste, previsao_arvore))
print(accuracy_score(y_teste, previsao_vizinho))


#Logo, o modelo de árvore de decisões, neste caso se mostrou mais eficas pois teve uma precisão de 81,61%, ao comparado com a eficiencia de 71,28% do outro teste.

#passo 5: testar em novas previsões
novos_dados = pd.read_csv('novos_clientes.csv')
display(novos_dados)

for coluna in novos_dados.columns:
    if novos_dados[coluna].dtype == object and coluna != "score_credito":
        novos_dados[coluna] = codificador.fit_transform(novos_dados[coluna])


nova_previsao = modelo_arvore.predict(novos_dados)
print(nova_previsao)


# Bonus: identificar a importancia de cada uma das colunas na tabela para a conclusão das previsões
  
bonus_colunas = list(x_teste.columns)
importancia = pd.DataFrame(index=bonus_colunas, data=modelo_arvore.feature_importances_)
importancia= importancia*100

print(importancia)
